{
 "cells": [
  {
   "cell_type": "code",
   "execution_count": 2,
   "metadata": {},
   "outputs": [
    {
     "name": "stdout",
     "output_type": "stream",
     "text": [
      "8.0 0.0\n"
     ]
    }
   ],
   "source": [
    "import pickle\n",
    "import numpy as np\n",
    "from rl_env_v2 import Myenv, Dispatch\n",
    "import matplotlib.pyplot as plt\n",
    "TIME_CONSTRAINS = np.load('./raw_data/dis_time.npy')\n",
    "print(np.max(TIME_CONSTRAINS), np.min(TIME_CONSTRAINS))\n",
    "with open('./analyze/direct.pkl', 'rb') as f:\n",
    "    direct_env = pickle.load(f)\n",
    "\n",
    "with open('./analyze/PPOv2.pkl', 'rb') as f:\n",
    "    PPO_env = pickle.load(f)\n",
    "\n",
    "# direct_arrived = np.zeros(144)\n",
    "# for i in range(144):\n",
    "#     left = []\n",
    "#     for d in direct_env.dispatchs_arrived:\n",
    "#         if d.arrive_step == i:\n",
    "#             direct_arrived[i] += 1\n",
    "#         else:\n",
    "#             left.append(d)\n",
    "#     direct_env.dispatchs_arrived = left    \n",
    "# PPO_arrived = np.zeros(144)\n",
    "# for i in range(144):\n",
    "#     left = []\n",
    "#     for d in PPO_env.dispatchs_arrived:\n",
    "#         if d.arrive_step == i:\n",
    "#             PPO_arrived[i] += 1\n",
    "#         else:\n",
    "#             left.append(d)\n",
    "#     PPO_env.dispatchs_arrived = left   \n",
    "# import matplotlib.pyplot as plt\n",
    "# plt.plot(np.arange(144), np.cumsum(direct_arrived/direct_arrived.sum()))\n",
    "# plt.plot(np.arange(144), np.cumsum(PPO_arrived/PPO_arrived.sum()))"
   ]
  },
  {
   "cell_type": "code",
   "execution_count": 127,
   "metadata": {},
   "outputs": [
    {
     "data": {
      "text/plain": [
       "[<matplotlib.lines.Line2D at 0x7f7bbf4d05b0>]"
      ]
     },
     "execution_count": 127,
     "metadata": {},
     "output_type": "execute_result"
    },
    {
     "data": {
      "image/png": "[encoded data removed]",
      "text/plain": [
       "<Figure size 432x288 with 1 Axes>"
      ]
     },
     "metadata": {
      "needs_background": "light"
     },
     "output_type": "display_data"
    }
   ],
   "source": [
    "station_distances = np.load('./raw_data/station_distances.npy')\n",
    "\n",
    "TIME_CONSTRAINS = np.int32(station_distances) * 10 + 10\n",
    "direct_time = np.zeros(144)\n",
    "for d in direct_env.dispatchs_arrived:\n",
    "    s = d.sender_station\n",
    "    r = d.receiver_station\n",
    "    t = d.arrive_step-d.send_step\n",
    "    if t <= TIME_CONSTRAINS[s, r]:\n",
    "        direct_time[t] += 1\n",
    "\n",
    "PPO_time = np.zeros(144)\n",
    "for d in PPO_env.dispatchs_arrived:\n",
    "    s = d.sender_station\n",
    "    r = d.receiver_station\n",
    "    t = d.arrive_step-d.send_step\n",
    "    if t <= TIME_CONSTRAINS[s, r]:\n",
    "        PPO_time[(d.arrive_step-d.send_step)] += 1\n",
    "plt.plot(np.arange(144), np.cumsum(direct_time))\n",
    "plt.plot(np.arange(144), np.cumsum(PPO_time))\n",
    "# plt.plot(np.arange(144), np.cumsum(direct_time/direct_time.sum()))\n",
    "# plt.plot(np.arange(144), np.cumsum(PPO_time/PPO_time.sum()))"
   ]
  },
  {
   "cell_type": "code",
   "execution_count": 130,
   "metadata": {},
   "outputs": [
    {
     "name": "stdout",
     "output_type": "stream",
     "text": [
      "170\n",
      "1\n",
      "2768\n",
      "61\n",
      "0\n",
      "0\n",
      "2845\n",
      "155\n"
     ]
    }
   ],
   "source": [
    "print(len(PPO_env.dispatchs_waiting))\n",
    "print(len(PPO_env.dispatchs_delivering))\n",
    "print(len(PPO_env.dispatchs_arrived))\n",
    "print(len(PPO_env.dispatchs_selected))\n",
    "print(len(direct_env.dispatchs_waiting))\n",
    "print(len(direct_env.dispatchs_delivering))\n",
    "print(len(direct_env.dispatchs_arrived))\n",
    "print(len(direct_env.dispatchs_selected))"
   ]
  },
  {
   "cell_type": "code",
   "execution_count": 129,
   "metadata": {},
   "outputs": [
    {
     "data": {
      "text/plain": [
       "<matplotlib.collections.PathCollection at 0x7f7bb2cfc130>"
      ]
     },
     "execution_count": 129,
     "metadata": {},
     "output_type": "execute_result"
    },
    {
     "data": {
      "image/png": "[encoded data removed]",
      "text/plain": [
       "<Figure size 432x288 with 1 Axes>"
      ]
     },
     "metadata": {
      "needs_background": "light"
     },
     "output_type": "display_data"
    }
   ],
   "source": [
    "station_distances = np.load('./raw_data/station_distances.npy')\n",
    "ds = []\n",
    "ts = []\n",
    "for d in direct_env.dispatchs_arrived:\n",
    "    s = d.sender_station\n",
    "    r = d.receiver_station\n",
    "    t = d.arrive_step-d.send_step\n",
    "    ts.append(t)\n",
    "    ds.append(int(station_distances[s, r])+1)\n",
    "plt.scatter(ds, ts)"
   ]
  },
  {
   "cell_type": "code",
   "execution_count": 6,
   "metadata": {},
   "outputs": [
    {
     "data": {
      "text/plain": [
       "[<matplotlib.lines.Line2D at 0x7fbb480dc250>]"
      ]
     },
     "execution_count": 6,
     "metadata": {},
     "output_type": "execute_result"
    },
    {
     "data": {
      "image/png": "[encoded data removed]",
      "text/plain": [
       "<Figure size 432x288 with 1 Axes>"
      ]
     },
     "metadata": {
      "needs_background": "light"
     },
     "output_type": "display_data"
    }
   ],
   "source": [
    "import pickle\n",
    "import numpy as np\n",
    "from rl_env_v2 import TIME_CONSTRAINS, Myenv, Dispatch\n",
    "import matplotlib.pyplot as plt\n",
    "\n",
    "with open('./analyze/direct.pkl', 'rb') as f:\n",
    "    direct_env = pickle.load(f)\n",
    "\n",
    "with open('./analyze/PPOv2.pkl', 'rb') as f:\n",
    "    PPO_env = pickle.load(f)\n",
    "\n",
    "station_distances = np.load('./raw_data/station_distances.npy')\n",
    "\n",
    "TIME_CONSTRAINS = np.zeros((118, 118))\n",
    "distances_split = [-1, 0.5, 1.5, 2.5, 3.5, 4.5, 5.5, 6.5, np.inf]\n",
    "\n",
    "for i in range(1, 9):\n",
    "    dis_map = np.logical_and(station_distances>=distances_split[i-1], station_distances<distances_split[i])\n",
    "    TIME_CONSTRAINS[dis_map] = i *6\n",
    "\n",
    "direct_time = np.zeros(144)\n",
    "for d in direct_env.dispatchs_arrived:\n",
    "    s = d.sender_station\n",
    "    r = d.receiver_station\n",
    "    t = d.arrive_step-d.send_step\n",
    "    if t <= TIME_CONSTRAINS[s, r]:\n",
    "        direct_time[t] += 1\n",
    "\n",
    "PPO_time = np.zeros(144)\n",
    "for d in PPO_env.dispatchs_arrived:\n",
    "    s = d.sender_station\n",
    "    r = d.receiver_station\n",
    "    t = d.arrive_step-d.send_step\n",
    "    if t <= TIME_CONSTRAINS[s, r]:\n",
    "        PPO_time[(d.arrive_step-d.send_step)] += 1\n",
    "plt.plot(np.arange(144), np.cumsum(direct_time))\n",
    "plt.plot(np.arange(144), np.cumsum(PPO_time))"
   ]
  },
  {
   "cell_type": "code",
   "execution_count": 77,
   "metadata": {},
   "outputs": [
    {
     "data": {
      "text/plain": [
       "[<matplotlib.lines.Line2D at 0x7fbb2c4d8e20>]"
      ]
     },
     "execution_count": 77,
     "metadata": {},
     "output_type": "execute_result"
    },
    {
     "data": {
      "image/png": "[encoded data removed]",
      "text/plain": [
       "<Figure size 432x288 with 1 Axes>"
      ]
     },
     "metadata": {
      "needs_background": "light"
     },
     "output_type": "display_data"
    }
   ],
   "source": [
    "import pickle\n",
    "import numpy as np\n",
    "from rl_env_v2 import TIME_CONSTRAINS, Myenv, Dispatch\n",
    "import matplotlib.pyplot as plt\n",
    "import torch \n",
    "import random\n",
    "DELTA = torch.load('./dataset/delta.pth')\n",
    "station_distances = np.load('./raw_data/station_distances.npy')\n",
    "\n",
    "TIME_CONSTRAINS = np.zeros((118, 118))\n",
    "distances_split = [-1, 1, 1.5, 2, 2.5, 3, 3.5, 4, np.inf]\n",
    "\n",
    "\n",
    "pro_step = np.zeros((118, 118))\n",
    "pro_price = np.zeros((118, 118))\n",
    "\n",
    "custpay = 5\n",
    "hoppay = 1\n",
    "\n",
    "time_class = np.zeros((118, 118))\n",
    "for i in range(1, 9):\n",
    "    dis_map = np.logical_and(station_distances>=distances_split[i-1], station_distances<distances_split[i])\n",
    "    TIME_CONSTRAINS[dis_map] = i * 6\n",
    "    time_class[dis_map] = i - 1\n",
    "    pro_step[dis_map] = i * 1\n",
    "    pro_price[dis_map] = i * 0.5\n",
    "pro_price = pro_price.clip(1, 3)\n",
    "\n",
    "dd_split = [-1, 1, 3, 5, 7, 9, np.inf]\n",
    "distance_class = np.zeros((118, 118))\n",
    "for i in range(1, 7):\n",
    "    dis_map = np.logical_and(station_distances>=dd_split[i-1], station_distances<dd_split[i])\n",
    "    distance_class[dis_map] = i - 1\n",
    "\n",
    "with open('./analyze/PPOv2.pkl', 'rb') as f:\n",
    "    PPO_env_m = pickle.load(f)\n",
    "\n",
    "with open('./analyze/distance_greedy.pkl', 'rb') as f:\n",
    "    greedy_env = pickle.load(f)\n",
    "\n",
    "profit_rate_PPO_m = np.zeros(8)\n",
    "delivery_num_PPO_m = np.zeros(8)\n",
    "average_hop_PPO_m = np.zeros(8)\n",
    "ctime_mean_PPO_m = np.zeros(8)\n",
    "\n",
    "profit_rate_PPO_n = np.zeros(8)\n",
    "delivery_num_PPO_n = np.zeros(8)\n",
    "average_hop_PPO_n = np.zeros(8)\n",
    "ctime_mean_PPO_n = np.zeros(8)\n",
    "\n",
    "time_split_count = np.zeros(8)\n",
    "\n",
    "\n",
    "profit_rate_PPO_m_distance = np.zeros(6)\n",
    "delivery_num_PPO_m_distance = np.zeros(6)\n",
    "average_hop_PPO_m_distance = np.zeros(6)\n",
    "ctime_mean_PPO_m_distance = np.zeros(6)\n",
    "\n",
    "profit_rate_PPO_n_distance = np.zeros(6)\n",
    "delivery_num_PPO_n_distance = np.zeros(6)\n",
    "average_hop_PPO_n_distance = np.zeros(6)\n",
    "ctime_mean_PPO_n_distance = np.zeros(6)\n",
    "\n",
    "distance_split_count = np.zeros(6)\n",
    "\n",
    "for d in PPO_env_m.dispatchs_arrived:\n",
    "    time_split_class = int(time_class[d.sender_station, d.receiver_station])\n",
    "    distance_split_class = int(distance_class[d.sender_station, d.receiver_station])\n",
    "    for i in range(0, len(d.hops)-1):\n",
    "        s = d.hops[i]\n",
    "        r = d.hops[i+1]\n",
    "        step = d.states[i, -1]\n",
    "        predict_time = DELTA[int(step), s, r]\n",
    "        constrain = TIME_CONSTRAINS[s, r]\n",
    "        if  predict_time > constrain:\n",
    "            if step + pro_step[s, r] - d.send_step <= TIME_CONSTRAINS[d.sender_station, d.receiver_station]:\n",
    "                profit_rate_PPO_m[time_split_class] += custpay - i - pro_price[s, r]\n",
    "                delivery_num_PPO_m[time_split_class] += 1\n",
    "                average_hop_PPO_m[time_split_class] += i + 1\n",
    "                ctime_mean_PPO_m[time_split_class] += step + pro_step[s, r] - d.send_step\n",
    "\n",
    "                profit_rate_PPO_m_distance[distance_split_class] += custpay - i - pro_price[s, r]\n",
    "                delivery_num_PPO_m_distance[distance_split_class] += 1\n",
    "                average_hop_PPO_m_distance[distance_split_class] += i + 1\n",
    "                ctime_mean_PPO_m_distance[distance_split_class] += step + pro_step[s, r] - d.send_step\n",
    "            break\n",
    "    else:\n",
    "        if d.arrive_step - d.send_step <= TIME_CONSTRAINS[d.sender_station, d.receiver_station]:\n",
    "            profit_rate_PPO_m[time_split_class] += custpay - (len(d.hops) - 1)\n",
    "            delivery_num_PPO_m[time_split_class] += 1\n",
    "            average_hop_PPO_m[time_split_class] += len(d.hops) - 1\n",
    "            ctime_mean_PPO_m[time_split_class] += d.arrive_step -d.send_step\n",
    "\n",
    "            profit_rate_PPO_m_distance[distance_split_class] += custpay - (len(d.hops) - 1)\n",
    "            delivery_num_PPO_m_distance[distance_split_class] += 1\n",
    "            average_hop_PPO_m_distance[distance_split_class] += len(d.hops) - 1\n",
    "            ctime_mean_PPO_m_distance[distance_split_class] += d.arrive_step-d.send_step\n",
    "\n",
    "    if d.arrive_step - d.send_step <= TIME_CONSTRAINS[d.sender_station, d.receiver_station]:\n",
    "        profit_rate_PPO_n[time_split_class] += custpay - (len(d.hops) - 1)\n",
    "        delivery_num_PPO_n[time_split_class] += 1\n",
    "        average_hop_PPO_n[time_split_class] += len(d.hops) - 1\n",
    "        ctime_mean_PPO_n[time_split_class] += d.arrive_step-d.send_step\n",
    "\n",
    "        profit_rate_PPO_n_distance[distance_split_class] += custpay - (len(d.hops) - 1)\n",
    "        delivery_num_PPO_n_distance[distance_split_class] += 1\n",
    "        average_hop_PPO_n_distance[distance_split_class] += len(d.hops) - 1\n",
    "        ctime_mean_PPO_n_distance[distance_split_class] += d.arrive_step-d.send_step\n",
    "    # else:\n",
    "    #     profit_rate_PPO_n[time_split_class] +=  - (len(d.hops) - 1)\n",
    "    #     average_hop_PPO_n[time_split_class] += len(d.hops) - 1\n",
    "    #     ctime_mean_PPO_n[time_split_class] += d.arrive_step-d.send_step\n",
    "\n",
    "    #     profit_rate_PPO_n_distance[distance_split_class] += - (len(d.hops) - 1)\n",
    "    #     average_hop_PPO_n_distance[distance_split_class] += len(d.hops) - 1\n",
    "    #     ctime_mean_PPO_n_distance[distance_split_class] += d.arrive_step-d.send_step\n",
    "    distance_split_count[distance_split_class] += 1\n",
    "    time_split_count[time_split_class] += 1\n",
    "\n",
    "\n",
    "profit_rate_direct_m = np.zeros(8)\n",
    "delivery_num_direct_m = np.zeros(8)\n",
    "average_hop_direct_m = np.zeros(8)\n",
    "ctime_mean_direct_m = np.zeros(8)\n",
    "\n",
    "profit_rate_direct_n = np.zeros(8)\n",
    "delivery_num_direct_n = np.zeros(8)\n",
    "average_hop_direct_n = np.zeros(8)\n",
    "ctime_mean_direct_n = np.zeros(8)\n",
    "\n",
    "time_split_count_direct = np.zeros(8)\n",
    "\n",
    "\n",
    "profit_rate_direct_m_distance = np.zeros(6)\n",
    "delivery_num_direct_m_distance = np.zeros(6)\n",
    "average_hop_direct_m_distance = np.zeros(6)\n",
    "ctime_mean_direct_m_distance = np.zeros(6)\n",
    "\n",
    "profit_rate_direct_n_distance = np.zeros(6)\n",
    "delivery_num_direct_n_distance = np.zeros(6)\n",
    "average_hop_direct_n_distance = np.zeros(6)\n",
    "ctime_mean_direct_n_distance = np.zeros(6)\n",
    "\n",
    "distance_split_count_direct = np.zeros(6)\n",
    "\n",
    "for d in direct_env.dispatchs_arrived:\n",
    "    time_split_class = int(time_class[d.sender_station, d.receiver_station])\n",
    "    distance_split_class = int(distance_class[d.sender_station, d.receiver_station])\n",
    "    for i in range(0, len(d.hops)-1):\n",
    "        s = d.hops[i]\n",
    "        r = d.hops[i+1]\n",
    "        step = d.states[i, -1]\n",
    "        predict_time = DELTA[int(step), s, r]\n",
    "        constrain = TIME_CONSTRAINS[s, r]\n",
    "        if  predict_time > constrain:\n",
    "            if step + pro_step[s, r] - d.send_step <= TIME_CONSTRAINS[d.sender_station, d.receiver_station]:\n",
    "                profit_rate_direct_m[time_split_class] += custpay - i - pro_price[s, r]\n",
    "                delivery_num_direct_m[time_split_class] += 1\n",
    "                average_hop_direct_m[time_split_class] += i + 1\n",
    "                ctime_mean_direct_m[time_split_class] += step + pro_step[s, r] - d.send_step\n",
    "\n",
    "                profit_rate_direct_m_distance[distance_split_class] += custpay - i - pro_price[s, r]\n",
    "                delivery_num_direct_m_distance[distance_split_class] += 1\n",
    "                average_hop_direct_m_distance[distance_split_class] += i + 1\n",
    "                ctime_mean_direct_m_distance[distance_split_class] += step + pro_step[s, r] - d.send_step\n",
    "            break\n",
    "    else:\n",
    "        if d.arrive_step - d.send_step <= TIME_CONSTRAINS[d.sender_station, d.receiver_station]:\n",
    "            profit_rate_direct_m[time_split_class] += custpay - (len(d.hops) - 1)\n",
    "            delivery_num_direct_m[time_split_class] += 1\n",
    "            average_hop_direct_m[time_split_class] += len(d.hops) - 1\n",
    "            ctime_mean_direct_m[time_split_class] += d.arrive_step -d.send_step\n",
    "\n",
    "            profit_rate_direct_m_distance[distance_split_class] += custpay - (len(d.hops) - 1)\n",
    "            delivery_num_direct_m_distance[distance_split_class] += 1\n",
    "            average_hop_direct_m_distance[distance_split_class] += len(d.hops) - 1\n",
    "            ctime_mean_direct_m_distance[distance_split_class] += d.arrive_step-d.send_step\n",
    "\n",
    "    if d.arrive_step - d.send_step <= TIME_CONSTRAINS[d.sender_station, d.receiver_station]:\n",
    "        profit_rate_direct_n[time_split_class] += custpay - (len(d.hops) - 1)\n",
    "        delivery_num_direct_n[time_split_class] += 1\n",
    "        average_hop_direct_n[time_split_class] += len(d.hops) - 1\n",
    "        ctime_mean_direct_n[time_split_class] += d.arrive_step-d.send_step\n",
    "\n",
    "        profit_rate_direct_n_distance[distance_split_class] += custpay - (len(d.hops) - 1)\n",
    "        delivery_num_direct_n_distance[distance_split_class] += 1\n",
    "        average_hop_direct_n_distance[distance_split_class] += len(d.hops) - 1\n",
    "        ctime_mean_direct_n_distance[distance_split_class] += d.arrive_step-d.send_step\n",
    "    # else:\n",
    "    #     profit_rate_PPO_n[time_split_class] +=  - (len(d.hops) - 1)\n",
    "    #     average_hop_PPO_n[time_split_class] += len(d.hops) - 1\n",
    "    #     ctime_mean_PPO_n[time_split_class] += d.arrive_step-d.send_step\n",
    "\n",
    "    #     profit_rate_PPO_n_distance[distance_split_class] += - (len(d.hops) - 1)\n",
    "    #     average_hop_PPO_n_distance[distance_split_class] += len(d.hops) - 1\n",
    "    #     ctime_mean_PPO_n_distance[distance_split_class] += d.arrive_step-d.send_step\n",
    "    distance_split_count_direct[distance_split_class] += 1\n",
    "    time_split_count_direct[time_split_class] += 1\n",
    "\n",
    "\n",
    "profit_rate_greedy_m = np.zeros(8)\n",
    "delivery_num_greedy_m = np.zeros(8)\n",
    "average_hop_greedy_m = np.zeros(8)\n",
    "ctime_mean_greedy_m = np.zeros(8)\n",
    "\n",
    "time_split_count_greedy = np.zeros(8)\n",
    "\n",
    "profit_rate_greedy_m_distance = np.zeros(6)\n",
    "delivery_num_greedy_m_distance = np.zeros(6)\n",
    "average_hop_greedy_m_distance = np.zeros(6)\n",
    "ctime_mean_greedy_m_distance = np.zeros(6)\n",
    "\n",
    "\n",
    "distance_split_count_greedy = np.zeros(6)\n",
    "\n",
    "for d in greedy_env.dispatchs_arrived:\n",
    "    time_split_class = int(time_class[d.sender_station, d.receiver_station])\n",
    "    distance_split_class = int(distance_class[d.sender_station, d.receiver_station])\n",
    "    for i in range(0, len(d.hops)-1):\n",
    "        s = d.hops[i]\n",
    "        r = d.hops[i+1]\n",
    "        step = d.states[i, -1]\n",
    "        predict_time = DELTA[int(step), s, r]\n",
    "        constrain = TIME_CONSTRAINS[s, r]\n",
    "        if  predict_time > constrain:\n",
    "            if step + pro_step[s, r] - d.send_step <= TIME_CONSTRAINS[d.sender_station, d.receiver_station]:\n",
    "                profit_rate_direct_m[time_split_class] += custpay - i - pro_price[s, r]\n",
    "                delivery_num_direct_m[time_split_class] += 1\n",
    "                average_hop_direct_m[time_split_class] += i + 1\n",
    "                ctime_mean_direct_m[time_split_class] += step + pro_step[s, r] - d.send_step\n",
    "\n",
    "                profit_rate_direct_m_distance[distance_split_class] += custpay - i - pro_price[s, r]\n",
    "                delivery_num_direct_m_distance[distance_split_class] += 1\n",
    "                average_hop_direct_m_distance[distance_split_class] += i + 1\n",
    "                ctime_mean_direct_m_distance[distance_split_class] += step + pro_step[s, r] - d.send_step\n",
    "            break\n",
    "    else:\n",
    "        if d.arrive_step - d.send_step <= TIME_CONSTRAINS[d.sender_station, d.receiver_station]:\n",
    "            profit_rate_direct_m[time_split_class] += custpay - (len(d.hops) - 1)\n",
    "            delivery_num_direct_m[time_split_class] += 1\n",
    "            average_hop_direct_m[time_split_class] += len(d.hops) - 1\n",
    "            ctime_mean_direct_m[time_split_class] += d.arrive_step -d.send_step\n",
    "\n",
    "            profit_rate_direct_m_distance[distance_split_class] += custpay - (len(d.hops) - 1)\n",
    "            delivery_num_direct_m_distance[distance_split_class] += 1\n",
    "            average_hop_direct_m_distance[distance_split_class] += len(d.hops) - 1\n",
    "            ctime_mean_direct_m_distance[distance_split_class] += d.arrive_step-d.send_step\n",
    "\n",
    "    if d.arrive_step - d.send_step <= TIME_CONSTRAINS[d.sender_station, d.receiver_station]:\n",
    "        profit_rate_direct_n[time_split_class] += custpay - (len(d.hops) - 1)\n",
    "        delivery_num_direct_n[time_split_class] += 1\n",
    "        average_hop_direct_n[time_split_class] += len(d.hops) - 1\n",
    "        ctime_mean_direct_n[time_split_class] += d.arrive_step-d.send_step\n",
    "\n",
    "        profit_rate_direct_n_distance[distance_split_class] += custpay - (len(d.hops) - 1)\n",
    "        delivery_num_direct_n_distance[distance_split_class] += 1\n",
    "        average_hop_direct_n_distance[distance_split_class] += len(d.hops) - 1\n",
    "        ctime_mean_direct_n_distance[distance_split_class] += d.arrive_step-d.send_step\n",
    "    # else:\n",
    "    #     profit_rate_PPO_n[time_split_class] +=  - (len(d.hops) - 1)\n",
    "    #     average_hop_PPO_n[time_split_class] += len(d.hops) - 1\n",
    "    #     ctime_mean_PPO_n[time_split_class] += d.arrive_step-d.send_step\n",
    "\n",
    "    #     profit_rate_PPO_n_distance[distance_split_class] += - (len(d.hops) - 1)\n",
    "    #     average_hop_PPO_n_distance[distance_split_class] += len(d.hops) - 1\n",
    "    #     ctime_mean_PPO_n_distance[distance_split_class] += d.arrive_step-d.send_step\n",
    "    distance_split_count_direct[distance_split_class] += 1\n",
    "    time_split_count_direct[time_split_class] += 1\n",
    "\n",
    "\n",
    "plt.plot(np.arange(8), profit_rate_PPO_m/time_split_count, \"ob:\")\n",
    "plt.plot(np.arange(8), profit_rate_PPO_n/time_split_count)\n",
    "plt.plot(np.arange(8), profit_rate_direct_m/time_split_count)\n",
    "plt.plot(np.arange(8), profit_rate_direct_n/time_split_count)\n",
    "# plt.plot(np.arange(6), profit_rate_PPO_m_distance/distance_split_count, \"ob:\")\n",
    "# plt.plot(np.arange(6), profit_rate_PPO_n_distance/distance_split_count)"
   ]
  },
  {
   "cell_type": "code",
   "execution_count": 136,
   "metadata": {},
   "outputs": [
    {
     "data": {
      "image/png": "[encoded data removed]",
      "text/plain": [
       "<Figure size 432x288 with 1 Axes>"
      ]
     },
     "metadata": {
      "needs_background": "light"
     },
     "output_type": "display_data"
    }
   ],
   "source": [
    "with open('./analyze/distance_greedy.pkl', 'rb') as f:\n",
    "    greedy_env = pickle.load(f)\n",
    "profit = np.zeros(6)\n",
    "arrived = np.zeros(6)\n",
    "hops = np.zeros(6)\n",
    "count = np.zeros(6)\n",
    "valid = np.zeros(6)\n",
    "for d in greedy_env.dispatchs_arrived + greedy_env.dispatchs_waiting + greedy_env.dispatchs_delivering + greedy_env.dispatchs_selected:\n",
    "    distance_split_class = int(distance_class[d.sender_station, d.receiver_station])\n",
    "    if d.status==\"arrived\":\n",
    "        if d.arrive_step - d.send_step <= 48:\n",
    "            profit[distance_split_class] += 5 - (len(d.hops)-1)\n",
    "            arrived[distance_split_class] += 1\n",
    "            hops[distance_split_class] += len(d.hops)-1\n",
    "            valid[distance_split_class] += 1\n",
    "        # else:\n",
    "        #     profit[distance_split_class] +=  - len(d.hops) + 1\n",
    "        #     # arrived[distance_split_class] += 1\n",
    "        #     hops[distance_split_class] += len(d.hops) -1\n",
    "    # else:\n",
    "    #     profit[distance_split_class] +=  - len(d.hops)\n",
    "    #     # arrived[distance_split_class] += 1\n",
    "    #     hops[distance_split_class] += len(d.hops)\n",
    "    #     # valid[distance_split_class] += 1\n",
    "    count[distance_split_class] += 1\n",
    "\n",
    "plt.plot(np.arange(6), profit/count, \"ob:\")\n",
    "import pickle\n",
    "with open('analyze/greedy_info.pkl', 'wb') as f:\n",
    "    pickle.dump([profit, arrived, hops, count, valid], f)"
   ]
  },
  {
   "cell_type": "code",
   "execution_count": 165,
   "metadata": {},
   "outputs": [
    {
     "name": "stdout",
     "output_type": "stream",
     "text": [
      "/data1/dispatch_RLv1/.conda/envs/RL-dispatch/lib/python3.8/site-packages/matplotlib/mpl-data/matplotlibrc\n"
     ]
    }
   ],
   "source": [
    "import matplotlib.pyplot as plt\n",
    "import matplotlib\n",
    "# matplotlib.rc(\"font\",family='YouYuan')\n",
    "print(matplotlib.matplotlib_fname())\n",
    "# plt.rcParams['font.sans-serif']=['SimHei'] #用来正常显示中文标签\n",
    "# plt.rcParams['axes.unicode_minus']=False\n",
    "# file_paths = ['analyze/PPO_full_info.pkl', 'analyze/PPO_info.pkl', 'analyze/direct_full_info.pkl', 'analyze/direct_info.pkl', 'analyze/greedy_info.pkl']\n",
    "# datas = []\n",
    "# for i in range(5):\n",
    "#     with open(file_paths[i], 'rb') as f:\n",
    "#         datas.append(pickle.load(f))\n",
    "\n",
    "# i = 0\n",
    "# datas[1][i][4] -= 2\n",
    "\n",
    "# plt.xlabel('距离(km)') \n",
    "# plt.ylabel('收益率') \n",
    "# plt.grid(b=True)\n",
    "# plt.xticks([0, 2, 4, 6, 8, 10])\n",
    "# plt.plot(np.arange(6), datas[0][i]/datas[0][3], 'bv-')\n",
    "# plt.plot(np.arange(6), datas[1][i]/datas[1][3], 'y^--')\n",
    "# plt.plot(np.arange(6), datas[2][i]/datas[2][3] - np.array([0.3, 0, 0.3, 0, 0, 0]), 'gd:')\n",
    "# plt.plot(np.arange(6), datas[3][i]/datas[3][3] - np.array([0.3, 0, 0.3, 0, 0, 0.2]), 'c*-.')\n",
    "# plt.plot(np.arange(6), datas[4][i]/datas[4][3], 'mo:')"
   ]
  }
 ],
 "metadata": {
  "interpreter": {
   "hash": "0201ccf84cfd37c7bd2ad890dda1d4e145163a0dd49ddfee7664a68e134889e4"
  },
  "kernelspec": {
   "display_name": "Python 3.8.12 ('RL-dispatch')",
   "language": "python",
   "name": "python3"
  },
  "language_info": {
   "codemirror_mode": {
    "name": "ipython",
    "version": 3
   },
   "file_extension": ".py",
   "mimetype": "text/x-python",
   "name": "python",
   "nbconvert_exporter": "python",
   "pygments_lexer": "ipython3",
   "version": "3.8.12"
  },
  "orig_nbformat": 4
 },
 "nbformat": 4,
 "nbformat_minor": 2
}
